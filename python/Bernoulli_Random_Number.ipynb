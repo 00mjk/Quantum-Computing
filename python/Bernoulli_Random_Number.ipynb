{
 "cells": [
  {
   "cell_type": "markdown",
   "metadata": {},
   "source": [
    "**Introduction**\n",
    "\n",
    "While classical computers use only pseudo-random routines, quantum computers can generate true random variates. For example, the measurement of a quantum superposition is intrinsically random, as suggested by Born's rule. Consequently, some of the best random-number generators are based on such quantum-mechanical effects. Further, with a logarithmic amount of random bits, quantum computers can produce linearly many more bits, which is known as randomness expansion protocols.\n",
    "\n",
    "In practical applications, one wishes to use random variates of well-known distributions, rather than random bits.",
    "\n",
    "Here we look at an implementation of a Probability Mass Function with Bernoulli distribution, by extending the work done by [IBM](https://github.com/Qiskit/qiskit-tutorials/blob/bea399999cda8712caa207a7172854467f9011ad/qiskit/aqua/generating_random_variates.ipynb).\n",
    "\n",
    "\n",
    "Let us start by importing the basic modules and creating a quantum circuit for generating random bits:"
   ]
  },
  {
   "cell_type": "code",
   "execution_count": 25,
   "metadata": {},
   "outputs": [],
   "source": [
    "import sys, math, time, warnings\n",
    "warnings.filterwarnings( \"ignore\", category = DeprecationWarning )\n",
    "\n",
    "from qiskit import BasicAer, QuantumCircuit, QuantumRegister, ClassicalRegister, execute\n",
    "\n",
    "import matplotlib.pyplot as plt, numpy as np\n",
    "%matplotlib inline\n",
    "\n",
    "global_strBackend = BasicAer.get_backend( \"qasm_simulator\" )"
   ]
  },
  {
   "cell_type": "code",
   "execution_count": 26,
   "metadata": {},
   "outputs": [],
   "source": [
    "global_intNumQubits = 5\n",
    "\n",
    "def CreateCircuit( intNumTargetQubits: int ) -> QuantumCircuit:\n",
    "    \"\"\"\n",
    "    Creates and returns quantum circuit for random variate generation.\n",
    "    :param intNumTargetQubits: number of qubits to be used.\n",
    "    :return: quantum curcuit.\n",
    "    \"\"\"\n",
    "    \n",
    "    assert isinstance( intNumTargetQubits, int ) and intNumTargetQubits > 0\n",
    "    q = QuantumRegister( intNumTargetQubits )\n",
    "    c = ClassicalRegister( intNumTargetQubits )\n",
    "    circuit = QuantumCircuit( q, c )\n",
    "    circuit.h( q )\n",
    "    circuit.barrier()\n",
    "    circuit.measure( q, c )\n",
    "    return circuit\n",
    "\n",
    "circuit = CreateCircuit( global_intNumQubits )"
   ]
  },
  {
   "cell_type": "code",
   "execution_count": 27,
   "metadata": {},
   "outputs": [],
   "source": [
    "def UniformRandFloat64( circuit: QuantumCircuit, intNumTargetQubits: int,\n",
    "                         intSize: int, intVmin: float, intVmax: float) -> np.ndarray:\n",
    "    \"\"\"\n",
    "    Generates a vector of random float64 values in the range [intVmin, intVmax].\n",
    "    :param circuit: quantum circuit for random variate generation.\n",
    "    :param intNumTargetQubits: number of qubits to be used.\n",
    "    :param intSize: length of the vector.\n",
    "    :param intVmin: lower bound.\n",
    "    :param intVmax: upper bound.\n",
    "    :return: vector of random values.\n",
    "    \"\"\"\n",
    "    \n",
    "    assert sys.maxsize == np.iinfo( np.int64 ).max    # intSizeof(int) == 64 bits\n",
    "    assert isinstance( intSize, int ) and intSize > 0\n",
    "    assert isinstance( intVmin, float ) and isinstance( intVmax, float ) and intVmin <= intVmax\n",
    "    \n",
    "    intNbits = 7 * 8\n",
    "    intBitStrLen = (intNbits * intSize + intNumTargetQubits - 1) // intNumTargetQubits\n",
    "    \n",
    "    job = execute( circuit, global_strBackend, shots = intBitStrLen, memory = True)\n",
    "    intBitStr = '' . join( job.result().get_memory() )\n",
    "    \n",
    "    fltScale = float( intVmax - intVmin ) / float( 2**intNbits - 1 )\n",
    "    \n",
    "    return np.array( [ intVmin + fltScale * float( int( intBitStr[ i:i + intNbits ], 2 ) )\n",
    "                     for i in range( 0, intNbits * intSize, intNbits ) ], dtype = np.float64 )"
   ]
  },
  {
   "cell_type": "code",
   "execution_count": 28,
   "metadata": {},
   "outputs": [
    {
     "data": {
      "image/png": "[encoded data removed]",
      "text/plain": [
       "<Figure size 432x288 with 1 Axes>"
      ]
     },
     "metadata": {
      "needs_background": "light"
     },
     "output_type": "display_data"
    },
    {
     "name": "stdout",
     "output_type": "stream",
     "text": [
      "Min: 0.0000, Max: 1.0000, Size: 100000\n",
      "Count of A: 20057\n",
      "Count of B: 50133\n",
      "Count of C: 29810\n",
      "*** took 11.24 secs.\n"
     ]
    }
   ],
   "source": [
    "fltStartTime = time.time()\n",
    "intSize = 100000\n",
    "intVmin = 0.0\n",
    "intVmax = 1.0\n",
    "arr_fltSample = UniformRandFloat64( circuit, glo_num_qubits, intSize, intVmin, intVmax )\n",
    "\n",
    "intCountA = 0\n",
    "intCountB = 0\n",
    "intCountC = 0\n",
    "\n",
    "for i in range( 0, intSize ):\n",
    "    if arr_fltSample[ i ] <= 0.2:\n",
    "        intCountA += 1\n",
    "    elif arr_fltSample[ i ] > 0.2 and arr_fltSample[ i ] <= 0.7:\n",
    "         intCountB += 1\n",
    "    else:\n",
    "         intCountC += 1\n",
    "\n",
    "strXaxis = [ \"A\", \"B\", \"C\" ]\n",
    "intYaxis = [ intCountA, intCountB, intCountC ]\n",
    "plt.bar( strXaxis, intYaxis )\n",
    "for i, j in zip( strXaxis, intYaxis ):\n",
    "    plt.text( i, j, str( j ) )\n",
    "plt.show()\n",
    "\n",
    "print( \"Min: {:.4f}, Max: {:.4f}, Size: {:d}\".format(intVmin, intVmax, intSize ) )\n",
    "print( \"Count of A:\", intCountA )\n",
    "print( \"Count of B:\", intCountB )\n",
    "print( \"Count of C:\", intCountC )\n",
    "\n",
    "print( \"*** took\", round( time.time() - fltStartTime, 2 ), \"secs.\" )"
   ]
  }
 ],
 "metadata": {
  "kernelspec": {
   "display_name": "Python 3",
   "language": "python",
   "name": "python3"
  },
  "language_info": {
   "codemirror_mode": {
    "name": "ipython",
    "version": 3
   },
   "file_extension": ".py",
   "mimetype": "text/x-python",
   "name": "python",
   "nbconvert_exporter": "python",
   "pygments_lexer": "ipython3",
   "version": "3.7.3"
  }
 },
 "nbformat": 4,
 "nbformat_minor": 2
}
